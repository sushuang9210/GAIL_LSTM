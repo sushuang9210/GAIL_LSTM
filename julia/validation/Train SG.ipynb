{
 "cells": [
  {
   "cell_type": "markdown",
   "metadata": {},
   "source": [
    "# Train Static Gaussian"
   ]
  },
  {
   "cell_type": "code",
   "execution_count": 3,
   "metadata": {
    "collapsed": false
   },
   "outputs": [
    {
     "name": "stderr",
     "output_type": "stream",
     "text": [
      "WARNING: redefining constant ROOT_FILEPATH\n",
      "WARNING: redefining constant TRAIN_TEST_SPLIT_FILEPATH\n"
     ]
    }
   ],
   "source": [
    "using AutoDrivers\n",
    "using AutoDrivers.GaussianMixtureRegressionDrivers\n",
    "\n",
    "include(\"load_train_test_split.jl\")\n",
    "\n",
    "include(joinpath(ROOT_FILEPATH, \"pull_traces\", \"tim2dfeatures.jl\"))\n",
    "extractor = Tim2DFeatureExtractor()\n",
    "\n",
    "assignment = load_assignment()\n",
    "evaldata = load_evaldata()\n",
    "\n",
    "nothing"
   ]
  },
  {
   "cell_type": "code",
   "execution_count": 4,
   "metadata": {
    "collapsed": false
   },
   "outputs": [],
   "source": [
    "foldset = foldset_match(assignment, FOLD_TRAIN)\n",
    "context = IntegratedContinuous(NGSIM_TIMESTEP, 1)\n",
    "params = GMRTrainParams(AccelTurnrate, extractor, context,\n",
    "    max_n_train_examples=1000000,\n",
    "    max_n_indicators=10,\n",
    "    n_components=3,\n",
    ")\n",
    "\n",
    "YX_means_stdevs = GaussianMixtureRegressionDrivers._pull_YX_means_stdevs(evaldata, params, foldset)\n",
    "nothing"
   ]
  },
  {
   "cell_type": "code",
   "execution_count": 10,
   "metadata": {
    "collapsed": false
   },
   "outputs": [
    {
     "data": {
      "text/plain": [
       "FullNormal(\n",
       "dim: 2\n",
       "μ: [0.07813232200000027,0.0025751835870002756]\n",
       "Σ: 2x2 Array{Float64,2}:\n",
       " 0.533053     0.000284046\n",
       " 0.000284046  0.000348645\n",
       ")\n"
      ]
     },
     "execution_count": 10,
     "metadata": {},
     "output_type": "execute_result"
    }
   ],
   "source": [
    "YX = YX_means_stdevs[1]\n",
    "Y = YX[:,1:2];\n",
    "\n",
    "distr = fit(MvNormal, Y')"
   ]
  },
  {
   "cell_type": "code",
   "execution_count": null,
   "metadata": {
    "collapsed": true
   },
   "outputs": [],
   "source": []
  }
 ],
 "metadata": {
  "kernelspec": {
   "display_name": "Julia 0.4.5",
   "language": "julia",
   "name": "julia-0.4"
  },
  "language_info": {
   "file_extension": ".jl",
   "mimetype": "application/julia",
   "name": "julia",
   "version": "0.4.5"
  }
 },
 "nbformat": 4,
 "nbformat_minor": 0
}
